{
 "cells": [
  {
   "cell_type": "code",
   "execution_count": null,
   "metadata": {},
   "outputs": [],
   "source": []
  },
  {
   "cell_type": "code",
   "execution_count": 75,
   "metadata": {},
   "outputs": [
    {
     "name": "stdout",
     "output_type": "stream",
     "text": [
      "Enter the value of x and b: 9 10\n",
      "The golomb code encoding for x=9 and b=10 is 11111\n"
     ]
    }
   ],
   "source": [
    "import math\n",
    "N,M = list(map(int,input('Enter the value of x and b: ').split()))\n",
    "q=N//M\n",
    "r=N%M\n",
    "quo='0'*q+'1'\n",
    "b=math.floor(math.log2(M))\n",
    "k = 2**(b+1)-M\n",
    "if r<k:\n",
    "    rem = bin(r)[2:]\n",
    "    l=len(rem)\n",
    "    if l<b:\n",
    "        rem = '0'*(b-l)+rem\n",
    "else:\n",
    "    rem = bin(r+k)[2:]\n",
    "    l=len(rem)\n",
    "    if l<b+1:\n",
    "        rem = '0'*(b+1-l)+rem\n",
    "golomb_code=quo+rem\n",
    "print(f'The golomb code encoding for x={N} and b={M} is {golomb_code}')"
   ]
  },
  {
   "cell_type": "code",
   "execution_count": 74,
   "metadata": {},
   "outputs": [
    {
     "name": "stdout",
     "output_type": "stream",
     "text": [
      "Enter the golomb code: 0010\n",
      "Enter the value of b: 3\n",
      "The decoding of golomb code 0010 and b=3 is x=6\n"
     ]
    }
   ],
   "source": [
    "n = input('Enter the golomb code: ')\n",
    "q=len(n.split('1')[0])\n",
    "M = int(input('Enter the value of b: '))\n",
    "b=math.floor(math.log2(M))\n",
    "k = 2**(b+1)-M\n",
    "r = int(n[q+1:q+1+b],2)\n",
    "if r>=k:\n",
    "    r = int(n[q+1:q+1+b+1],2)\n",
    "    r=r-k\n",
    "x=q*M+r\n",
    "print(f'The decoding of golomb code {n} and b={M} is x={x}')\n"
   ]
  },
  {
   "cell_type": "code",
   "execution_count": null,
   "metadata": {},
   "outputs": [],
   "source": []
  },
  {
   "cell_type": "code",
   "execution_count": null,
   "metadata": {},
   "outputs": [],
   "source": []
  },
  {
   "cell_type": "code",
   "execution_count": null,
   "metadata": {},
   "outputs": [],
   "source": []
  }
 ],
 "metadata": {
  "kernelspec": {
   "display_name": "Python 3",
   "language": "python",
   "name": "python3"
  },
  "language_info": {
   "codemirror_mode": {
    "name": "ipython",
    "version": 3
   },
   "file_extension": ".py",
   "mimetype": "text/x-python",
   "name": "python",
   "nbconvert_exporter": "python",
   "pygments_lexer": "ipython3",
   "version": "3.7.4"
  }
 },
 "nbformat": 4,
 "nbformat_minor": 2
}
