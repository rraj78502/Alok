{
 "cells": [
  {
   "cell_type": "code",
   "execution_count": 43,
   "metadata": {},
   "outputs": [
    {
     "name": "stdout",
     "output_type": "stream",
     "text": [
      "17\n",
      "001010001\n"
     ]
    }
   ],
   "source": [
    "#https://en.wikipedia.org/wiki/Elias_delta_coding\n",
    "x=int(input())\n",
    "import math\n",
    "N = math.floor(math.log(x,2))\n",
    "L = math.floor(math.log(N+1,2))\n",
    "ans ='0'*L\n",
    "b = bin(N+1)[2:]\n",
    "ls = bin(x)[2:]\n",
    "ls = ls[len(ls)-N:]\n",
    "ans =ans+b+ls\n",
    "print(ans)\n"
   ]
  },
  {
   "cell_type": "code",
   "execution_count": 44,
   "metadata": {},
   "outputs": [
    {
     "name": "stdout",
     "output_type": "stream",
     "text": [
      "17\n"
     ]
    }
   ],
   "source": [
    "#decoding\n",
    "L =len(ans.split('1')[0])\n",
    "N = int(ans[:2*L+1],2)-1\n",
    "r=int(ans[len(ans)-N:],2)\n",
    "x=2**N+r\n",
    "print(x)"
   ]
  },
  {
   "cell_type": "code",
   "execution_count": 56,
   "metadata": {},
   "outputs": [
    {
     "name": "stdout",
     "output_type": "stream",
     "text": [
      "7 8\n"
     ]
    }
   ],
   "source": [
    "#Golomb -https://w3.ual.es/~vruiz/Docencia/Apuntes/Coding/Text/03-symbol_encoding/09-Golomb_coding/index.html\n",
    "import math\n",
    "m,s=map(int,input().split())\n",
    "k = math.ceil(math.log2(m))\n",
    "r = s%m\n",
    "\n",
    "t = 2**k-m\n",
    "ans='1'+'0'*(s//m)\n",
    "if r<t:\n",
    "    b = bin(r)[2:]\n",
    "    q=len(b)\n",
    "    ans=ans+'0'*(k-q-1)+b\n",
    "else:\n",
    "    r = r+t\n",
    "    b = bin(r)[2:]\n",
    "    q=len(b)\n",
    "    ans=ans+'0'*(k-q)+b\n",
    "print(ans)"
   ]
  },
  {
   "cell_type": "code",
   "execution_count": 60,
   "metadata": {},
   "outputs": [],
   "source": [
    "#decoding\n",
    "import math\n",
    "k = math.ceil(math.log2(m))\n",
    "t = 2**k-m\n",
    "s=len(ans.split('0')[0])\n",
    "x=ans[s+1:s+k]\n",
    "x=int(x,2)\n",
    "if x<t:\n",
    "    s=s*m+x\n",
    "else:\n",
    "    x=x*2+int(ans[s+k])\n",
    "    s = s*m+x-t"
   ]
  },
  {
   "cell_type": "code",
   "execution_count": null,
   "metadata": {},
   "outputs": [],
   "source": []
  },
  {
   "cell_type": "code",
   "execution_count": null,
   "metadata": {},
   "outputs": [],
   "source": []
  },
  {
   "cell_type": "code",
   "execution_count": null,
   "metadata": {},
   "outputs": [],
   "source": []
  }
 ],
 "metadata": {
  "kernelspec": {
   "display_name": "Python 3",
   "language": "python",
   "name": "python3"
  },
  "language_info": {
   "codemirror_mode": {
    "name": "ipython",
    "version": 3
   },
   "file_extension": ".py",
   "mimetype": "text/x-python",
   "name": "python",
   "nbconvert_exporter": "python",
   "pygments_lexer": "ipython3",
   "version": "3.7.4"
  }
 },
 "nbformat": 4,
 "nbformat_minor": 2
}
