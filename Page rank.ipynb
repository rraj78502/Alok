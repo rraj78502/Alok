{
 "cells": [
  {
   "cell_type": "code",
   "execution_count": null,
   "metadata": {},
   "outputs": [],
   "source": []
  },
  {
   "cell_type": "code",
   "execution_count": null,
   "metadata": {},
   "outputs": [],
   "source": []
  },
  {
   "cell_type": "code",
   "execution_count": null,
   "metadata": {},
   "outputs": [],
   "source": []
  },
  {
   "cell_type": "code",
   "execution_count": 1,
   "metadata": {},
   "outputs": [
    {
     "name": "stdout",
     "output_type": "stream",
     "text": [
      "[[0.  0.5 0.5 0.  0.  0. ]\n",
      " [0.  0.  0.  0.  0.  0. ]\n",
      " [0.5 0.  0.  0.  0.5 0. ]\n",
      " [0.  0.  0.  0.  0.5 0.5]\n",
      " [0.  0.  0.  0.5 0.  0.5]\n",
      " [0.  0.  0.  0.5 0.  0. ]]\n"
     ]
    }
   ],
   "source": [
    "#input adjacency matrix\n",
    "import numpy as np\n",
    "d = 0.9 #damping factor\n",
    "adj = np.array([[0,0.5,0.5,0,0,0],[0,0,0,0,0,0],[0.5,0,0,0,0.5,0],[0,0,0,0,0.5,0.5],[0,0,0,0.5,0,0.5],[0,0,0,0.5,0,0]])\n",
    "print(adj)"
   ]
  },
  {
   "cell_type": "code",
   "execution_count": 2,
   "metadata": {},
   "outputs": [
    {
     "name": "stdout",
     "output_type": "stream",
     "text": [
      "[[0.         0.5        0.5        0.         0.         0.        ]\n",
      " [0.16666667 0.16666667 0.16666667 0.16666667 0.16666667 0.16666667]\n",
      " [0.5        0.         0.         0.         0.5        0.        ]\n",
      " [0.         0.         0.         0.         0.5        0.5       ]\n",
      " [0.         0.         0.         0.5        0.         0.5       ]\n",
      " [0.         0.         0.         0.5        0.         0.        ]]\n"
     ]
    }
   ],
   "source": [
    "#handling the node with no out going links\n",
    "n=len(adj)\n",
    "for i in range(n):\n",
    "    if any(adj[i])==0:\n",
    "        for l in range(n):\n",
    "            adj[i][l]=1/n\n",
    "print(adj)"
   ]
  },
  {
   "cell_type": "code",
   "execution_count": 3,
   "metadata": {
    "scrolled": true
   },
   "outputs": [
    {
     "name": "stdout",
     "output_type": "stream",
     "text": [
      "[[0.01666667 0.16666667 0.46666667 0.01666667 0.01666667 0.01666667]\n",
      " [0.46666667 0.16666667 0.01666667 0.01666667 0.01666667 0.01666667]\n",
      " [0.46666667 0.16666667 0.01666667 0.01666667 0.01666667 0.01666667]\n",
      " [0.01666667 0.16666667 0.01666667 0.01666667 0.46666667 0.46666667]\n",
      " [0.01666667 0.16666667 0.46666667 0.46666667 0.01666667 0.01666667]\n",
      " [0.01666667 0.16666667 0.01666667 0.46666667 0.46666667 0.01666667]]\n"
     ]
    }
   ],
   "source": [
    "#stochastic matrix formation\n",
    "E = np.ones((n,n))\n",
    "sto=(1-d)*E/n+d*np.transpose(adj)\n",
    "print(sto)"
   ]
  },
  {
   "cell_type": "code",
   "execution_count": 4,
   "metadata": {},
   "outputs": [],
   "source": [
    "#Page rank of all the six nodes after each iteration\n",
    "P=[]\n",
    "P.append(np.ones((n,1))/n)\n",
    "k=0\n",
    "e=0.05\n",
    "c=1\n",
    "while c:\n",
    "    P.append((1-d)*np.ones((n,1))+d*np.transpose(adj).dot(P[k]))\n",
    "    a=abs((P[k+1]-P[k]))<e\n",
    "    stop = a.all()\n",
    "    if stop:\n",
    "        c=0\n",
    "\n",
    "    k=k+1\n",
    "\n"
   ]
  },
  {
   "cell_type": "code",
   "execution_count": 5,
   "metadata": {},
   "outputs": [
    {
     "name": "stdout",
     "output_type": "stream",
     "text": [
      "--------------------------------\n",
      "Iteration 0\n",
      "[[0.16666667]\n",
      " [0.16666667]\n",
      " [0.16666667]\n",
      " [0.16666667]\n",
      " [0.16666667]\n",
      " [0.16666667]]\n",
      "--------------------------------\n",
      "--------------------------------\n",
      "Iteration 1\n",
      "[[0.2  ]\n",
      " [0.2  ]\n",
      " [0.2  ]\n",
      " [0.275]\n",
      " [0.275]\n",
      " [0.275]]\n",
      "--------------------------------\n",
      "--------------------------------\n",
      "Iteration 2\n",
      "[[0.22   ]\n",
      " [0.22   ]\n",
      " [0.22   ]\n",
      " [0.3775 ]\n",
      " [0.34375]\n",
      " [0.3775 ]]\n",
      "--------------------------------\n",
      "--------------------------------\n",
      "Iteration 3\n",
      "[[0.232    ]\n",
      " [0.232    ]\n",
      " [0.232    ]\n",
      " [0.4575625]\n",
      " [0.401875 ]\n",
      " [0.4575625]]\n",
      "--------------------------------\n",
      "--------------------------------\n",
      "Iteration 4\n",
      "[[0.2392    ]\n",
      " [0.2392    ]\n",
      " [0.2392    ]\n",
      " [0.52154687]\n",
      " [0.44510312]\n",
      " [0.52154687]]\n",
      "--------------------------------\n",
      "--------------------------------\n",
      "Iteration 5\n",
      "[[0.24352   ]\n",
      " [0.24352   ]\n",
      " [0.24352   ]\n",
      " [0.5708725 ]\n",
      " [0.47821609]\n",
      " [0.5708725 ]]\n",
      "--------------------------------\n"
     ]
    }
   ],
   "source": [
    "#Total number iteration count until stopping criteria.\n",
    "for i in range(len(P)):\n",
    "    print('--------------------------------')\n",
    "    print(f'Iteration {i}')\n",
    "    \n",
    "    print(P[i])\n",
    "    print('--------------------------------')"
   ]
  },
  {
   "cell_type": "code",
   "execution_count": null,
   "metadata": {},
   "outputs": [],
   "source": []
  },
  {
   "cell_type": "code",
   "execution_count": null,
   "metadata": {},
   "outputs": [],
   "source": []
  },
  {
   "cell_type": "code",
   "execution_count": null,
   "metadata": {},
   "outputs": [],
   "source": []
  },
  {
   "cell_type": "code",
   "execution_count": null,
   "metadata": {},
   "outputs": [],
   "source": []
  }
 ],
 "metadata": {
  "kernelspec": {
   "display_name": "Python 3",
   "language": "python",
   "name": "python3"
  },
  "language_info": {
   "codemirror_mode": {
    "name": "ipython",
    "version": 3
   },
   "file_extension": ".py",
   "mimetype": "text/x-python",
   "name": "python",
   "nbconvert_exporter": "python",
   "pygments_lexer": "ipython3",
   "version": "3.7.4"
  }
 },
 "nbformat": 4,
 "nbformat_minor": 2
}
